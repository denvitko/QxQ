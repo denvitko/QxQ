{
 "cells": [
  {
   "cell_type": "markdown",
   "id": "869fee54-ba55-41dd-b0ba-c152f85febc8",
   "metadata": {
    "tags": []
   },
   "source": [
    "<div class=\"alert alert-warning\">\n",
    "    <h1 style=\"text-align:center; font-family: Chalkduster; font-variant: small-caps; font-size: xx-large; font-weight: bold;\">The Quantum Café: A Tale of Code and Intrigue &#x1F52E</h1>\n",
    "</div>\n",
    "<div style=\"text-align: center\">\n",
    "    <pre style=\"color: darkblue; font-weight: bold; padding: 2em\" class=\"alert alert-info\">\n",
    "                                            ####   \n",
    "     #########                            ##    ## \n",
    "    ####   ###                           ##      ##\n",
    "    ###    ######################        ##########\n",
    "    ####   ###     ##  ##  ##  ##        ####  ####\n",
    "     #########             ##            ####  ####\n",
    "                                         ##########\n",
    "</pre>\n",
    "</div>"
   ]
  },
  {
   "cell_type": "markdown",
   "id": "8c546fc3-e364-45c0-b664-81bd6284f301",
   "metadata": {},
   "source": [
    "---"
   ]
  },
  {
   "cell_type": "markdown",
   "id": "01f879dd-482f-4784-9848-9a2ff7eca54c",
   "metadata": {},
   "source": [
    "# Index\n",
    "\n",
    "1. [Crossword](#PART-1)\n",
    "2. [Message Teleportation](#PART-2)\n",
    "3. [Quantum key](#PART-3)\n",
    "4. [Resources](#RESOURCES)"
   ]
  },
  {
   "cell_type": "code",
   "execution_count": null,
   "id": "d01818af-ae1e-401c-a0d8-d6f4e0ea0b41",
   "metadata": {
    "tags": []
   },
   "outputs": [],
   "source": [
    "#!pip install qiskit\n",
    "\n",
    "import numpy as np\n",
    "\n",
    "# Importing standard Qiskit libraries\n",
    "from qiskit import QuantumCircuit, QuantumRegister, ClassicalRegister, assemble, transpile, execute, Aer, IBMQ\n",
    "from qiskit.tools.jupyter import *\n",
    "from qiskit.visualization import *\n",
    "from qiskit.quantum_info import Statevector, random_statevector\n",
    "from ibm_quantum_widgets import *\n",
    "from qiskit.providers.aer import QasmSimulator\n",
    "from qiskit_textbook.tools import vector2latex\n",
    "from random import *\n",
    "\n",
    "# comment this if you are not using IBM Quantum\n",
    "provider = IBMQ.load_account()"
   ]
  },
  {
   "cell_type": "markdown",
   "id": "6793c0b3-21fd-455c-b85a-32e46c993dec",
   "metadata": {
    "tags": []
   },
   "source": [
    "## PART 1"
   ]
  },
  {
   "cell_type": "markdown",
   "id": "5ad71619-7008-40f4-98be-fa5768294da9",
   "metadata": {
    "tags": []
   },
   "source": [
    "<div class=\"alert alert-warning\" style=\"font-size: larger; text-align: justify;\">\n",
    "    <img src=\"crossword.png\" style=\"width:50%; margin-left:20px; float: right\">\n",
    "    In the heart of a bustling city, a teenage girl named Maya worked in a small café. Despite her mundane job, she had a passion for science and dreamed of becoming a quantum physicist.\n",
    "    <br><br>\n",
    "    One day, while working her shift, she noticed a strange man sitting in the corner. He wore a black suit and had a briefcase by his side. Maya couldn't shake the feeling that he was up to something.\n",
    "    <br><br>\n",
    "    The man left the café, but not before dropping a small piece of paper on the floor. Maya picked it up, examining it closely. She realized that the crossword might contain a clue to something important, so she quickly got to work solving it. As she filled in the blanks, she noticed that certain letters seemed to be forming a word...\n",
    "</div>\n",
    "\n",
    "<div class=\"alert alert-info\" style=\"font-size: larger; text-align: justify;\">\n",
    "<p style=\"font-weight: bold;\">Task 1:</p>\n",
    "Help Maya with her task, she needs to use her knowledge of quantum physics and computing to solve the mysterious crossword.\n",
    "</div>"
   ]
  },
  {
   "attachments": {},
   "cell_type": "markdown",
   "id": "cc338a5c-359a-48ff-9f63-4963aa9bfea6",
   "metadata": {},
   "source": [
    "<img src=\"crossword_task.png\" style=\"width:50%; float: right\">\n",
    "<img src=\"crossword_hints.png\" style=\"width:50%; float: right\">"
   ]
  },
  {
   "cell_type": "markdown",
   "id": "66a97b97-88a8-4af5-a21c-9296b47e45e0",
   "metadata": {
    "tags": []
   },
   "source": [
    "<div class=\"alert alert-warning\" style=\"font-size: larger; text-align: justify;\">\n",
    "A few minutes later, Maya had completed the crossword, and several letters stood out: \"_ _ _ _ _ _ _ _ _\". She realized that the answer to the crossword might lead to a secret door.\n",
    "</div>"
   ]
  },
  {
   "cell_type": "markdown",
   "id": "c121a180-3215-4f72-b663-0a3776003878",
   "metadata": {},
   "source": [
    "---"
   ]
  },
  {
   "cell_type": "markdown",
   "id": "adde359e-2a22-4e7d-bde8-7ebb81758976",
   "metadata": {},
   "source": [
    "## PART 2"
   ]
  },
  {
   "cell_type": "markdown",
   "id": "c60c2715-7546-42fc-805c-53dc03e9e22b",
   "metadata": {},
   "source": [
    "<div class=\"alert alert-warning\" style=\"font-size: larger; text-align: justify;\">\n",
    "<img src=\"strange_machine.png\" style=\"width:25%; margin-left:20px; float: right\">\n",
    "    After hours of searching, she finally found a fireplace in the other side of the café. She felt around the bricks and found a loose one. Behind the bricks, there was a small room with a table, two chairs, and a strange-looking machine. As she inspected the machine, Maya realized that it was a quantum key distribution device. \n",
    "<br><br>\n",
    "She knew that if it fell into the wrong hands, it could be used to hack into secure systems and steal important information. She had to get the machine out of there and into the hands of someone who could protect it.\n",
    "<br><br>\n",
    "Just as she was about to leave the room, the door to the café burst open, and a group of menacing-looking men entered. They were lead by the same men she had seen earlier that day.\n",
    "<br><br>    \n",
    "Maya knew that she couldn't take on the bad guys alone. She needed help, and she knew just who to call. She had to use quantum teleportation to contact her friend, a brilliant young quantum physicist named Leon, who had a reputation for being a bit of a maverick.\n",
    "</div>\n",
    "\n",
    "<div class=\"alert alert-info\" style=\"font-size: larger; text-align: justify;\">\n",
    "<p style=\"font-weight: bold;\">Task 2:</p>\n",
    "Maya has to solve another task. She will use a quantum mechanics to secretly send her message in a form of a quantum state to her friend Leon. Will you help her implement a quantum teleportation algorithm, so that Leon receives her call for help?\n",
    "</div>"
   ]
  },
  {
   "cell_type": "markdown",
   "id": "d403e07a-0bdc-492c-b197-2887d71729c0",
   "metadata": {},
   "source": [
    "---"
   ]
  },
  {
   "cell_type": "code",
   "execution_count": 3,
   "id": "79e6ad69-b06f-4c25-b275-48f12f3a9745",
   "metadata": {
    "tags": []
   },
   "outputs": [],
   "source": [
    "def send_message(message: str) -> QuantumCircuit:\n",
    "    \"\"\" Creates a teleportation quantum circuit with 3 qubits and 3 classical bits and sends a given message through classical channels.\n",
    "    \"\"\"\n",
    "    \n",
    "    qc = QuantumCircuit(3, 3)\n",
    "    qc.initialize(message_dictionary[message], 2)\n",
    "        \n",
    "    ### you have to implement the teleportation algorithm\n",
    "    ### you will use H-gate, CNOT-gate for creating the entangled Bell pair\n",
    "    ### then you will use another set of H-gate and CNOT-gate along with measurements\n",
    "    ### and finally you decide wheteher to apply additional gates, CNOT-gate and CZ-gate\n",
    "    \n",
    "    qc.barrier()    \n",
    "    qc.reset(1)\n",
    "    qc.reset(2)\n",
    "    \n",
    "    return qc\n",
    "\n",
    "# help(send_message)"
   ]
  },
  {
   "cell_type": "code",
   "execution_count": 4,
   "id": "fa269d22-fba3-4cd1-995f-e76c171168c4",
   "metadata": {
    "tags": []
   },
   "outputs": [],
   "source": [
    "def receive_message(qc):\n",
    "    \"\"\" Reads a quantum state and returns a corresponding message.\n",
    "    \"\"\"\n",
    "    sim = Aer.get_backend('qasm_simulator')\n",
    "    qc.save_statevector()\n",
    "    result = sim.run(qc).result().get_statevector()\n",
    "    statevec = np.round([result[0].real, result[1].real], 10)\n",
    "    for key, value in message_dictionary.items():\n",
    "        value = np.round(value,10)\n",
    "        if value[0] == statevec[0] and value[1] == statevec[1]:\n",
    "            return key\n",
    "    return print(\"! error ocurred !\")\n",
    "\n",
    "# help(receive_message)"
   ]
  },
  {
   "cell_type": "markdown",
   "id": "a5e88787-5355-4eb4-9f06-c7f384341931",
   "metadata": {},
   "source": [
    "<div class=\"alert alert-warning\" style=\"font-size: larger; text-align: justify;\">\n",
    "Maya and Leon agreed on common message dictionary with the following messages contained. Feel free to add your own messages to the dictionary, but keep in mind that the value has to be a valid quantum state.\n",
    "</div>"
   ]
  },
  {
   "cell_type": "code",
   "execution_count": 5,
   "id": "412749cd-ec56-4fdd-b66f-32406eb27048",
   "metadata": {
    "tags": []
   },
   "outputs": [],
   "source": [
    "message_dictionary = {\n",
    "    \"help\" : [np.sqrt(3)/np.sqrt(6), np.sqrt(2)/np.sqrt(4)],\n",
    "    \"busy\" : [np.sqrt(2)/np.sqrt(3), 1/np.sqrt(3)],\n",
    "    \"coming\" : [1/np.sqrt(3), np.sqrt(2)/np.sqrt(3)],\n",
    "    \"yes\" : [0,1],\n",
    "    \"no\" : [1,0],\n",
    "    \"maybe\" : [1/np.sqrt(2), 1/np.sqrt(2)],\n",
    "}"
   ]
  },
  {
   "cell_type": "code",
   "execution_count": 20,
   "id": "829e1caf-1fd7-4649-9c9d-ca8fde2b820a",
   "metadata": {
    "tags": []
   },
   "outputs": [],
   "source": [
    "maya = send_message(\"\")     ### select a message to be sent to Leon\n",
    "# maya.draw()     # you can check the circuit by calling the draw() function"
   ]
  },
  {
   "cell_type": "code",
   "execution_count": null,
   "id": "635c8160-62d3-4f77-b477-566b4485371b",
   "metadata": {
    "tags": []
   },
   "outputs": [],
   "source": [
    "receive_message(maya)"
   ]
  },
  {
   "cell_type": "code",
   "execution_count": 21,
   "id": "dcf83baf-4904-4bc4-88b8-fa5f4e1aaa9a",
   "metadata": {
    "tags": []
   },
   "outputs": [],
   "source": [
    "leon = send_message(\"\")   ### select a message to be sent back to Maya\n",
    "# leon.draw()     # you can check the circuit by calling the draw() function"
   ]
  },
  {
   "cell_type": "code",
   "execution_count": null,
   "id": "3c839fd4-0722-4f20-80c2-649a0e3ef748",
   "metadata": {
    "tags": []
   },
   "outputs": [],
   "source": [
    "receive_message(leon)"
   ]
  },
  {
   "cell_type": "markdown",
   "id": "dba2c971-4c93-4540-82e1-10664772c5fc",
   "metadata": {},
   "source": [
    "---"
   ]
  },
  {
   "cell_type": "markdown",
   "id": "966edcb4-b186-4606-bd3a-050fcbb0037c",
   "metadata": {},
   "source": [
    "# PART 3"
   ]
  },
  {
   "cell_type": "markdown",
   "id": "59732835-8256-4349-9c52-f25f05a67fb3",
   "metadata": {},
   "source": [
    "<div class=\"alert alert-warning\" style=\"font-size: larger; text-align: justify;\">\n",
    "<img src=\"card.png\" style=\"width:25%; margin-left:20px; float: right\">\n",
    "Leon arrived quickly, and after examining the machine, he confirmed Maya's suspicions. It was indeed a quantum key distribution device, and it was worth millions on the black market. Leon knew that they had to get it out of there as quickly as possible. But the bad guys were hot on their trail, and Maya and Leon had to act fast.\n",
    "<br><br>\n",
    "They decided to use a storage unit in a remote location that Maya had rented previously.\n",
    "<br><br>\n",
    "But they couldn't just use a regular lock and key to secure the machine, they needed something more advanced. Maya remembered learning about quantum locks and keys in her physics class, and thought this would be the perfect opportunity to put her knowledge to the test.\n",
    "<br><br>\n",
    "She quickly got to work, programming a quantum lock that could only be opened with a specific key. With the help of Leon, they attached the lock to the storage unit where they had secured the quantum key distribution device.\n",
    "<br><br>\n",
    "With the machine safely hidden, Maya and Leon could breathe a sigh of relief. They had narrowly escaped the bad guys and saved the quantum key distribution device from falling into the wrong hands.\n",
    "</div>\n",
    "\n",
    "<div class=\"alert alert-info\" style=\"font-size: larger; text-align: justify;\">\n",
    "<p style=\"font-weight: bold;\">Task 3:</p>\n",
    "Help Maya and Leon to create a quantum lock and key to make sure that the machine is in a safe place. Security on the first place, now it's your turn to test it out.\n",
    "</div>"
   ]
  },
  {
   "cell_type": "code",
   "execution_count": 10,
   "id": "c7dee408-323f-4367-8c2c-62ec3ee47c17",
   "metadata": {
    "tags": []
   },
   "outputs": [],
   "source": [
    "def key(key_length: int) -> str:\n",
    "    \"\"\"Creates a classical key that will be used for unlocking a quantum lock.\n",
    "    \"\"\"\n",
    "    key = \"\"\n",
    "    for i in range(key_length):\n",
    "        key +=      ### generate random number - either 0 or 1 and convert it to string\n",
    "    return key"
   ]
  },
  {
   "cell_type": "code",
   "execution_count": 11,
   "id": "9eeee947-e9aa-491b-9e02-fc464b3da2bd",
   "metadata": {
    "tags": []
   },
   "outputs": [],
   "source": [
    "def lock(key_length: int) -> str:\n",
    "    \"\"\"Creates a quantum lock to be opened with our custom key.\n",
    "    \"\"\"\n",
    "    qc = QuantumCircuit(key_length * 2, key_length)\n",
    "\n",
    "    for i in range(key_length):\n",
    "        \n",
    "        ### add H-gate to each qubit\n",
    "        ### use i as an index value\n",
    "        \n",
    "        qc.cx(i, key_length + i)\n",
    "        qc.measure(key_length + i, i)\n",
    "\n",
    "    ### add a measurement for the circuit to obtain counts\n",
    "    ### use only one shot -> shots=1\n",
    "        \n",
    "    res = [key for key in counts.keys()][0]\n",
    "    \n",
    "    return res"
   ]
  },
  {
   "cell_type": "code",
   "execution_count": 12,
   "id": "2e65ee74-8f02-4f8b-9ee8-0b4c058f26d3",
   "metadata": {
    "tags": []
   },
   "outputs": [],
   "source": [
    "def open_the_door(key: str, lock: str) -> bool:\n",
    "    \"\"\"Decides whether the provided key opens the given lock.\n",
    "    \"\"\"\n",
    "    print(\"Key:\", key, \"Lock:\", lock)\n",
    "    for i in range(key_length):\n",
    "        if key[i] == lock[i]:\n",
    "            return print(\"Upps, it didn't work...\")\n",
    "    return print(\"Hurray, it worked!\")"
   ]
  },
  {
   "cell_type": "code",
   "execution_count": 13,
   "id": "530a9ff9-81be-4726-9245-210aec0e8e57",
   "metadata": {},
   "outputs": [],
   "source": [
    "key_length =     ### choose a size of the lock, should be greater than 2"
   ]
  },
  {
   "cell_type": "markdown",
   "id": "184cf032-c9a7-4706-8c60-3583424a85cb",
   "metadata": {},
   "source": [
    "<div class=\"alert alert-warning\" style=\"font-size: larger; text-align: justify;\">\n",
    "You got 3 attempts, would you be able to help our friends and unlock the lock?\n",
    "</div>"
   ]
  },
  {
   "cell_type": "code",
   "execution_count": null,
   "id": "85f2c72b-e5f6-45c3-871b-1feefcdbe14a",
   "metadata": {},
   "outputs": [],
   "source": [
    "# ATTEMPT 1\n",
    "open_the_door(key(key_length), lock(key_length))"
   ]
  },
  {
   "cell_type": "code",
   "execution_count": null,
   "id": "7cf6d084-5a3a-49f8-9ffe-7e6b1bf4e189",
   "metadata": {},
   "outputs": [],
   "source": [
    "# ATTEMPT 2\n",
    "open_the_door(key(key_length), lock(key_length))"
   ]
  },
  {
   "cell_type": "code",
   "execution_count": null,
   "id": "cb030163-37a8-4671-b6f4-e0275336382e",
   "metadata": {},
   "outputs": [],
   "source": [
    "# ATTEMPT 3\n",
    "open_the_door(key(key_length), lock(key_length))"
   ]
  },
  {
   "cell_type": "markdown",
   "id": "06a266f4-eacf-48f8-ab03-c713348087b2",
   "metadata": {},
   "source": [
    "<div class=\"alert alert-warning\" style=\"font-size: larger; text-align: justify;\">\n",
    "<img src=\"symbols.png\" style=\"width:40%; margin-left:20px; float: right;\">\n",
    "Maya and Leon have successfully tested their quantum lock and key. As they walked away, Maya couldn't help but feel proud of what she had accomplished. She had solved a crossword puzzle, discovered a hidden door, and saved a valuable piece of technology. And who knows? Maybe one day she would become the quantum physicist she had always dreamed of being.\n",
    "<br><br>\n",
    "The next day, the news broke that a group of criminals had been apprehended for attempting to steal a quantum key distribution device. Maya and Leon knew that they had played a small part in saving the world from a major security breach.\n",
    "<br><br>\n",
    "From that day on, Maya and Leon continued to work together on their quantum adventures, using their knowledge and skills to make the world a safer place.\n",
    "</div>"
   ]
  },
  {
   "cell_type": "markdown",
   "id": "b2ce0030-83c2-4fc0-9a11-50e9bcaf8a7d",
   "metadata": {},
   "source": [
    "---"
   ]
  },
  {
   "cell_type": "markdown",
   "id": "3042ad26-222a-47d7-a300-05d82affa151",
   "metadata": {
    "tags": []
   },
   "source": [
    "# RESOURCES"
   ]
  },
  {
   "cell_type": "markdown",
   "id": "a7dcf3d9-3114-4515-9681-da5ea721d553",
   "metadata": {},
   "source": [
    "* ChatGPT, OpenAI\n",
    "* Generative AIs: Dream AI, Bluewillow\n",
    "* QxQ course, lectures, labs\n",
    "* past experience, internships\n",
    "* Jupyter notebooks, IBM Quantum\n",
    "* Google search, my imagination"
   ]
  },
  {
   "cell_type": "markdown",
   "id": "6bc09909-a587-43ef-a41c-5883ab0d00d5",
   "metadata": {},
   "source": [
    "---\n",
    "# \n",
    "*<div align=\"right\">by Denča, 2023</div>*"
   ]
  }
 ],
 "metadata": {
  "kernelspec": {
   "display_name": "Python 3 (ipykernel)",
   "language": "python",
   "name": "python3"
  },
  "language_info": {
   "codemirror_mode": {
    "name": "ipython",
    "version": 3
   },
   "file_extension": ".py",
   "mimetype": "text/x-python",
   "name": "python",
   "nbconvert_exporter": "python",
   "pygments_lexer": "ipython3",
   "version": "3.10.8"
  },
  "widgets": {
   "application/vnd.jupyter.widget-state+json": {
    "state": {
     "0312d9c584a74d7b997f05c94e046e65": {
      "model_module": "@jupyter-widgets/controls",
      "model_module_version": "2.0.0",
      "model_name": "HTMLModel",
      "state": {
       "layout": "IPY_MODEL_32353ab0bf6a4cb1920413df1468be12",
       "style": "IPY_MODEL_a3fc61edd36f4d199a9e8fd50f812891",
       "value": "<h5>Queue</h5>"
      }
     },
     "169e473a56bb4e47a6eb78466af59643": {
      "model_module": "@jupyter-widgets/base",
      "model_module_version": "2.0.0",
      "model_name": "LayoutModel",
      "state": {
       "width": "190px"
      }
     },
     "1ace52b1c560452dab8c9a466ed94e08": {
      "model_module": "@jupyter-widgets/controls",
      "model_module_version": "2.0.0",
      "model_name": "HTMLStyleModel",
      "state": {
       "description_width": "",
       "font_size": null,
       "text_color": null
      }
     },
     "2f164183838f4023993ee86feb9aa7be": {
      "model_module": "@jupyter-widgets/controls",
      "model_module_version": "2.0.0",
      "model_name": "HBoxModel",
      "state": {
       "children": [
        "IPY_MODEL_5d2cb11069d44dc08e43f0c1dcec6929",
        "IPY_MODEL_6e9ae988604d44d38a1688fb10e8f3d5",
        "IPY_MODEL_6b75b2f8fad34721bc5abf7cff0d6dbb",
        "IPY_MODEL_0312d9c584a74d7b997f05c94e046e65",
        "IPY_MODEL_6a80f3d2744b4018b38c0e6c8c50aee1"
       ],
       "layout": "IPY_MODEL_bc2c2b9893634884aa71ac2693468b01"
      }
     },
     "32353ab0bf6a4cb1920413df1468be12": {
      "model_module": "@jupyter-widgets/base",
      "model_module_version": "2.0.0",
      "model_name": "LayoutModel",
      "state": {
       "width": "70px"
      }
     },
     "3eb0f89077154e4a9d50d932f4ee73bd": {
      "model_module": "@jupyter-widgets/controls",
      "model_module_version": "2.0.0",
      "model_name": "HTMLStyleModel",
      "state": {
       "description_width": "",
       "font_size": null,
       "text_color": null
      }
     },
     "3ef1514a7de94bad853cdb322bf2c798": {
      "model_module": "@jupyter-widgets/controls",
      "model_module_version": "2.0.0",
      "model_name": "ButtonModel",
      "state": {
       "button_style": "primary",
       "description": "Clear",
       "layout": "IPY_MODEL_40c941d5abc9444ea95eac3806f5ef41",
       "style": "IPY_MODEL_91b6bc48c10a4fe8b1107412f0ec066c",
       "tooltip": null
      }
     },
     "40c941d5abc9444ea95eac3806f5ef41": {
      "model_module": "@jupyter-widgets/base",
      "model_module_version": "2.0.0",
      "model_name": "LayoutModel",
      "state": {
       "grid_area": "right",
       "padding": "0px 0px 0px 0px",
       "width": "70px"
      }
     },
     "460c66fa36a946858ef60d4ee83394f1": {
      "model_module": "@jupyter-widgets/base",
      "model_module_version": "2.0.0",
      "model_name": "LayoutModel",
      "state": {
       "width": "95px"
      }
     },
     "5167448060794f40b6179d9bcc3825b8": {
      "model_module": "@jupyter-widgets/controls",
      "model_module_version": "2.0.0",
      "model_name": "HTMLStyleModel",
      "state": {
       "description_width": "",
       "font_size": null,
       "text_color": null
      }
     },
     "56ef349479734c228b11d265f829c2bb": {
      "model_module": "@jupyter-widgets/controls",
      "model_module_version": "2.0.0",
      "model_name": "GridBoxModel",
      "state": {
       "children": [
        "IPY_MODEL_3ef1514a7de94bad853cdb322bf2c798"
       ],
       "layout": "IPY_MODEL_712dcbbce34743f893bfd403af80f186"
      }
     },
     "5d2cb11069d44dc08e43f0c1dcec6929": {
      "model_module": "@jupyter-widgets/controls",
      "model_module_version": "2.0.0",
      "model_name": "HTMLModel",
      "state": {
       "layout": "IPY_MODEL_169e473a56bb4e47a6eb78466af59643",
       "style": "IPY_MODEL_3eb0f89077154e4a9d50d932f4ee73bd",
       "value": "<h5>Job ID</h5>"
      }
     },
     "6a80f3d2744b4018b38c0e6c8c50aee1": {
      "model_module": "@jupyter-widgets/controls",
      "model_module_version": "2.0.0",
      "model_name": "HTMLModel",
      "state": {
       "layout": "IPY_MODEL_9e03cdd6dc854e539a3d51f391c91a6e",
       "style": "IPY_MODEL_c571939c0c2c429d8d9e3564a5a167b8",
       "value": "<h5>Message</h5>"
      }
     },
     "6b75b2f8fad34721bc5abf7cff0d6dbb": {
      "model_module": "@jupyter-widgets/controls",
      "model_module_version": "2.0.0",
      "model_name": "HTMLModel",
      "state": {
       "layout": "IPY_MODEL_460c66fa36a946858ef60d4ee83394f1",
       "style": "IPY_MODEL_bc1b7a4aacfb4960a2547aeb0954a3aa",
       "value": "<h5>Status</h5>"
      }
     },
     "6e9ae988604d44d38a1688fb10e8f3d5": {
      "model_module": "@jupyter-widgets/controls",
      "model_module_version": "2.0.0",
      "model_name": "HTMLModel",
      "state": {
       "layout": "IPY_MODEL_ed17b5e00cc3417e9ef5b13c86100519",
       "style": "IPY_MODEL_1ace52b1c560452dab8c9a466ed94e08",
       "value": "<h5>Backend</h5>"
      }
     },
     "712dcbbce34743f893bfd403af80f186": {
      "model_module": "@jupyter-widgets/base",
      "model_module_version": "2.0.0",
      "model_name": "LayoutModel",
      "state": {
       "grid_template_areas": "\n                                       \". . . . right \"\n                                        ",
       "grid_template_columns": "20% 20% 20% 20% 20%",
       "width": "100%"
      }
     },
     "8fc93a625561448d8b69f6d563abb3bc": {
      "model_module": "@jupyter-widgets/controls",
      "model_module_version": "2.0.0",
      "model_name": "HTMLModel",
      "state": {
       "layout": "IPY_MODEL_aefe85475dae41d2919005cbb430d30c",
       "style": "IPY_MODEL_5167448060794f40b6179d9bcc3825b8",
       "value": "<p style='font-family: IBM Plex Sans, Arial, Helvetica, sans-serif; font-size: 20px; font-weight: medium;'>Circuit Properties</p>"
      }
     },
     "91b6bc48c10a4fe8b1107412f0ec066c": {
      "model_module": "@jupyter-widgets/controls",
      "model_module_version": "2.0.0",
      "model_name": "ButtonStyleModel",
      "state": {
       "font_family": null,
       "font_size": null,
       "font_style": null,
       "font_variant": null,
       "font_weight": null,
       "text_color": null,
       "text_decoration": null
      }
     },
     "9e03cdd6dc854e539a3d51f391c91a6e": {
      "model_module": "@jupyter-widgets/base",
      "model_module_version": "2.0.0",
      "model_name": "LayoutModel",
      "state": {}
     },
     "a3fc61edd36f4d199a9e8fd50f812891": {
      "model_module": "@jupyter-widgets/controls",
      "model_module_version": "2.0.0",
      "model_name": "HTMLStyleModel",
      "state": {
       "description_width": "",
       "font_size": null,
       "text_color": null
      }
     },
     "aefe85475dae41d2919005cbb430d30c": {
      "model_module": "@jupyter-widgets/base",
      "model_module_version": "2.0.0",
      "model_name": "LayoutModel",
      "state": {
       "margin": "0px 0px 10px 0px"
      }
     },
     "bc1b7a4aacfb4960a2547aeb0954a3aa": {
      "model_module": "@jupyter-widgets/controls",
      "model_module_version": "2.0.0",
      "model_name": "HTMLStyleModel",
      "state": {
       "description_width": "",
       "font_size": null,
       "text_color": null
      }
     },
     "bc2c2b9893634884aa71ac2693468b01": {
      "model_module": "@jupyter-widgets/base",
      "model_module_version": "2.0.0",
      "model_name": "LayoutModel",
      "state": {
       "margin": "0px 0px 0px 37px",
       "width": "600px"
      }
     },
     "c571939c0c2c429d8d9e3564a5a167b8": {
      "model_module": "@jupyter-widgets/controls",
      "model_module_version": "2.0.0",
      "model_name": "HTMLStyleModel",
      "state": {
       "description_width": "",
       "font_size": null,
       "text_color": null
      }
     },
     "ed17b5e00cc3417e9ef5b13c86100519": {
      "model_module": "@jupyter-widgets/base",
      "model_module_version": "2.0.0",
      "model_name": "LayoutModel",
      "state": {
       "width": "145px"
      }
     }
    },
    "version_major": 2,
    "version_minor": 0
   }
  }
 },
 "nbformat": 4,
 "nbformat_minor": 5
}
